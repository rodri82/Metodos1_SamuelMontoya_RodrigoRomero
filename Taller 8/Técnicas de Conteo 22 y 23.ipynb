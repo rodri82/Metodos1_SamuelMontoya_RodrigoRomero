{
 "cells": [
  {
   "cell_type": "code",
   "execution_count": 3,
   "id": "7cfc91fd",
   "metadata": {},
   "outputs": [],
   "source": [
    "import numpy as np"
   ]
  },
  {
   "cell_type": "markdown",
   "id": "b71a257a",
   "metadata": {},
   "source": [
    "# Punto 22"
   ]
  },
  {
   "cell_type": "code",
   "execution_count": 4,
   "id": "b62fa2f6",
   "metadata": {},
   "outputs": [],
   "source": [
    "Numeros=[0,1,2,3,4,5,6,7,8,9,10]\n",
    "count=0\n",
    "for i in range(len(Numeros)):\n",
    "    a=Numeros[i]\n",
    "    for j in range (len(Numeros)):\n",
    "        b=Numeros[j]\n",
    "        for k in range(len(Numeros)):\n",
    "            c=Numeros[k]\n",
    "            diez=a+b+c\n",
    "            if diez==10:\n",
    "                count+=1"
   ]
  },
  {
   "cell_type": "code",
   "execution_count": 5,
   "id": "114daa59",
   "metadata": {},
   "outputs": [
    {
     "data": {
      "text/plain": [
       "66"
      ]
     },
     "execution_count": 5,
     "metadata": {},
     "output_type": "execute_result"
    }
   ],
   "source": [
    "count"
   ]
  },
  {
   "cell_type": "markdown",
   "id": "0f861ef9",
   "metadata": {},
   "source": [
    "# Punto 23"
   ]
  },
  {
   "cell_type": "markdown",
   "id": "a526a642",
   "metadata": {},
   "source": [
    "Rojas=R\n",
    "Azules=A\n",
    "Verdes=V"
   ]
  },
  {
   "cell_type": "markdown",
   "id": "bf562452",
   "metadata": {},
   "source": [
    "RRRA\n",
    "RRRV\n",
    "AAAR\n",
    "AAAV\n",
    "VVVR\n",
    "VVVA\n",
    "RRAA\n",
    "RRVV\n",
    "AAVV\n",
    "RRAV\n",
    "AARV\n",
    "VVRA\n",
    "En total hay doce, pues en este caso no importa el orden en el que son tomadas las llaves"
   ]
  },
  {
   "cell_type": "code",
   "execution_count": null,
   "id": "9ec245d8",
   "metadata": {},
   "outputs": [],
   "source": []
  }
 ],
 "metadata": {
  "kernelspec": {
   "display_name": "Python 3 (ipykernel)",
   "language": "python",
   "name": "python3"
  },
  "language_info": {
   "codemirror_mode": {
    "name": "ipython",
    "version": 3
   },
   "file_extension": ".py",
   "mimetype": "text/x-python",
   "name": "python",
   "nbconvert_exporter": "python",
   "pygments_lexer": "ipython3",
   "version": "3.9.12"
  }
 },
 "nbformat": 4,
 "nbformat_minor": 5
}
