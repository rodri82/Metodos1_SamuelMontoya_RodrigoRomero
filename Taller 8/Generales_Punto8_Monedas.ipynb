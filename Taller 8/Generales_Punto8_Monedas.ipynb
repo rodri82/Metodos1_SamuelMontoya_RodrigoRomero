{
 "cells": [
  {
   "cell_type": "code",
   "execution_count": 24,
   "id": "5279603c",
   "metadata": {},
   "outputs": [],
   "source": [
    "import numpy as np\n",
    "import matplotlib.pyplot as plt\n",
    "from tqdm import tqdm"
   ]
  },
  {
   "cell_type": "code",
   "execution_count": 11,
   "id": "0c1f0ce6",
   "metadata": {},
   "outputs": [
    {
     "data": {
      "text/plain": [
       "0.375"
      ]
     },
     "execution_count": 11,
     "metadata": {},
     "output_type": "execute_result"
    }
   ],
   "source": [
    "P = (0.5**4)*6\n",
    "P"
   ]
  },
  {
   "cell_type": "code",
   "execution_count": 41,
   "id": "b8ef6f85",
   "metadata": {},
   "outputs": [
    {
     "name": "stderr",
     "output_type": "stream",
     "text": [
      "100%|██████████| 100000/100000 [00:02<00:00, 33344.63it/s]\n"
     ]
    }
   ],
   "source": [
    "N = int(1e5)\n",
    "count = 0\n",
    "for i in tqdm(range(N)):\n",
    "    exp = np.random.choice([1,0],4)\n",
    "    if np.sum(exp) == 2:\n",
    "        count +=1"
   ]
  },
  {
   "cell_type": "code",
   "execution_count": 42,
   "id": "83d2bb68",
   "metadata": {},
   "outputs": [
    {
     "data": {
      "text/plain": [
       "0.37464"
      ]
     },
     "execution_count": 42,
     "metadata": {},
     "output_type": "execute_result"
    }
   ],
   "source": [
    "P_exp = count/N\n",
    "P_exp"
   ]
  }
 ],
 "metadata": {
  "kernelspec": {
   "display_name": "Python 3 (ipykernel)",
   "language": "python",
   "name": "python3"
  },
  "language_info": {
   "codemirror_mode": {
    "name": "ipython",
    "version": 3
   },
   "file_extension": ".py",
   "mimetype": "text/x-python",
   "name": "python",
   "nbconvert_exporter": "python",
   "pygments_lexer": "ipython3",
   "version": "3.9.12"
  }
 },
 "nbformat": 4,
 "nbformat_minor": 5
}
